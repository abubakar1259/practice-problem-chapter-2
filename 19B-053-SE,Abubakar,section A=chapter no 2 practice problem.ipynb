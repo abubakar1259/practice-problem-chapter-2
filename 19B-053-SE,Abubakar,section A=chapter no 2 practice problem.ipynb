{
 "cells": [
  {
   "cell_type": "code",
   "execution_count": 220,
   "metadata": {},
   "outputs": [
    {
     "name": "stdout",
     "output_type": "stream",
     "text": [
      "sum of the first five positive integer is [15]\n",
      "avg 52.333333333333336\n",
      "5\n",
      "41\n",
      "1024\n",
      "difference between sara height and mark height is 3\n"
     ]
    },
    {
     "data": {
      "text/plain": [
       "29.95"
      ]
     },
     "execution_count": 220,
     "metadata": {},
     "output_type": "execute_result"
    }
   ],
   "source": [
    "#2.1 practice problem (Write Python algebraic expressions corresponding to the following statements:)\n",
    "#question 1\n",
    "#(a);the sum of first five positive integer\n",
    "a=[1+2+3+4+5]\n",
    "print(\"sum of the first five positive integer is\",a)\n",
    "\n",
    "#(b)the average age of sara(age23),mark(age19),fatima(age31)\n",
    "sara=(23)\n",
    "mark=(19)\n",
    "fatima=(31)\n",
    "avg=23+19+31/3\n",
    "print(\"avg\",avg)\n",
    "\n",
    "#(C)the number of times 73 goes into 406\n",
    "a=73\n",
    "b=406\n",
    "c=b//a\n",
    "print(c)\n",
    "\n",
    "#(d)the reminmder when 403 is divided by 73\n",
    "a=73\n",
    "b=406\n",
    "c=b%a\n",
    "print(c)\n",
    "\n",
    "#(e)2 to the 10th power\n",
    "a=2**10\n",
    "print(a)\n",
    "\n",
    "#(f)the absolute value of the difference between sara height(54 inches) and mark height(57 inches)\n",
    "sara=(54)\n",
    "mark=(57)\n",
    "d=abs(sara-mark)\n",
    "print(\"difference between sara height and mark height is\",d)\n",
    "\n",
    "#(g)the lowest price amonmg the following prices:$34.99,$29.95,$31.50\n",
    "min(34.99, 29.95, 31.50)\n",
    "\n"
   ]
  },
  {
   "cell_type": "code",
   "execution_count": 223,
   "metadata": {},
   "outputs": [
    {
     "name": "stdout",
     "output_type": "stream",
     "text": [
      "a False\n",
      "b True\n",
      "c True\n",
      "d False\n",
      "e False\n",
      "f False\n"
     ]
    },
    {
     "data": {
      "text/plain": [
       "True"
      ]
     },
     "execution_count": 223,
     "metadata": {},
     "output_type": "execute_result"
    }
   ],
   "source": [
    "#practice problem 2.2(Translate the following statements into Python Boolean expressions and evaluate them:)\n",
    "\n",
    "#(a)the sum of 2 and 2 less than 4\n",
    "a=2+2<4\n",
    "print(\"a\",a)\n",
    "\n",
    "#(b)the value of 7//3 is equal to 1+1\n",
    "b=7//3==1+1\n",
    "print(\"b\",b)\n",
    "\n",
    "#(c)the sum of 3 squard and 4 squard is equal to 25\n",
    "c=3**2+4**2==25\n",
    "print(\"c\",c)\n",
    "\n",
    "#(d) The sum of 2,4,and 6 is greater than 12\n",
    "d=2+4+6>12\n",
    "print(\"d\",d)\n",
    "\n",
    "#(e) 1387 is divisible by 19.\n",
    "e=1387/19==0\n",
    "print(\"e\",e)\n",
    "\n",
    "#(f) 31 is even.(Hint:what does the remainder when you divide by 2 tell you ?)\n",
    "f=31%2==0\n",
    "print(\"f\",f)\n",
    "\n",
    "#(g) The lowest price among $34.99,$29.95,and $31.50 is lessthan $30.00\n",
    "min(34.99,29.95,31.50)<30.00"
   ]
  },
  {
   "cell_type": "code",
   "execution_count": 224,
   "metadata": {},
   "outputs": [
    {
     "name": "stdout",
     "output_type": "stream",
     "text": [
      "a 3\n",
      "b 4\n",
      "c 25\n"
     ]
    }
   ],
   "source": [
    "#practice problem 2.3(Write Python statements that correspond to the actions below and execute them:)\n",
    "#(a)Assign integer value 3 to variable a.\n",
    "a=3\n",
    "print(\"a\",a)\n",
    "\n",
    "#(b) Assign (4) to variable (b).\n",
    "b=4\n",
    "print(\"b\",b)\n",
    "\n",
    "#(c) Assign to variable c the value of expression a * a + b * b.\n",
    "a=3\n",
    "b=4\n",
    "c=a*a+b*b\n",
    "print(\"c\",c)\n"
   ]
  },
  {
   "cell_type": "code",
   "execution_count": 230,
   "metadata": {},
   "outputs": [
    {
     "data": {
      "text/plain": [
       "'antbaTcod'"
      ]
     },
     "execution_count": 230,
     "metadata": {},
     "output_type": "execute_result"
    }
   ],
   "source": [
    "#practice problem 2.3(Start by executing the assignment statements;)\n",
    "#(a) 'ant bat cod'\n",
    "s1=(\"ant\")\n",
    "s2=(\"baT\")\n",
    "s3=(\"cod\")\n",
    "s1+''+s2+''+s3\n"
   ]
  },
  {
   "cell_type": "code",
   "execution_count": 226,
   "metadata": {},
   "outputs": [
    {
     "data": {
      "text/plain": [
       "'antantantantantantantantantant'"
      ]
     },
     "execution_count": 226,
     "metadata": {},
     "output_type": "execute_result"
    }
   ],
   "source": [
    "#(b) 'ant ant ant ant ant ant ant ant ant ant '\n",
    "s1=(\"ant\")\n",
    "10*(s1+'')"
   ]
  },
  {
   "cell_type": "code",
   "execution_count": 227,
   "metadata": {},
   "outputs": [
    {
     "data": {
      "text/plain": [
       "'antbaTbaTcodcodcod'"
      ]
     },
     "execution_count": 227,
     "metadata": {},
     "output_type": "execute_result"
    }
   ],
   "source": [
    "#(c) 'ant bat bat cod cod cod'\n",
    "s1=(\"ant\")\n",
    "s2=(\"baT\")\n",
    "s3=(\"cod\")\n",
    "1*(s1+'')+2*(s2+'')+3*(s3+'')"
   ]
  },
  {
   "cell_type": "code",
   "execution_count": 228,
   "metadata": {},
   "outputs": [
    {
     "data": {
      "text/plain": [
       "'antbaTantbaTantbaTantbaTantbaTantbaTantbaT'"
      ]
     },
     "execution_count": 228,
     "metadata": {},
     "output_type": "execute_result"
    }
   ],
   "source": [
    "#(d) 'ant bat ant bat ant bat ant bat ant bat ant bat ant bat '\n",
    "s1=(\"ant\")\n",
    "s2=(\"baT\")\n",
    "7*(s1+''+s2+'')"
   ]
  },
  {
   "cell_type": "code",
   "execution_count": 229,
   "metadata": {},
   "outputs": [
    {
     "data": {
      "text/plain": [
       "'baTbaTcodbaTbaTcodbaTbaTcodbaTbaTcodbaTbaTcod'"
      ]
     },
     "execution_count": 229,
     "metadata": {},
     "output_type": "execute_result"
    }
   ],
   "source": [
    "#(e) 'batbatcod batbatcod batbatcod batbatcod batbatcod '.\n",
    "s2=(\"baT\")\n",
    "s3=(\"cod\")\n",
    "5 * (2 * s2 +1*( s3 + ''))"
   ]
  },
  {
   "cell_type": "code",
   "execution_count": 231,
   "metadata": {},
   "outputs": [
    {
     "name": "stdout",
     "output_type": "stream",
     "text": [
      "s [0]\n",
      "a [1]\n",
      "b [6]\n",
      "c [8]\n",
      "d [9]\n"
     ]
    }
   ],
   "source": [
    "#2.5 practice problem.\n",
    "#s=(0123456789)\n",
    "#(a)\"0\"\n",
    "s=[0]\n",
    "print(\"s\",s)\n",
    "\n",
    "#(b)\"1\"\n",
    "a=[1]\n",
    "print(\"a\",a)\n",
    "\n",
    "#(c)\"6\"\n",
    "b=[6]\n",
    "print(\"b\",b)\n",
    "\n",
    "#(d)\"8\"\n",
    "c=[8]\n",
    "print(\"c\",c)\n",
    "\n",
    "#(e)\"9\"\n",
    "d=[9]\n",
    "print(\"d\",d)"
   ]
  },
  {
   "cell_type": "code",
   "execution_count": 234,
   "metadata": {},
   "outputs": [
    {
     "data": {
      "text/plain": [
       "'BAT'"
      ]
     },
     "execution_count": 234,
     "metadata": {},
     "output_type": "execute_result"
    }
   ],
   "source": [
    "#praactice problem 2.6\n",
    "#Now write two Python expressions that evaluate to the ﬁrst and last, respectively, word in words,in dictionary order.\n",
    "words = ['bat', 'ball', 'barn', 'basket', 'badminton']\n",
    "max('BAT', 'BALL', 'BARN', 'BASKET', 'BADMINTON')\n"
   ]
  },
  {
   "cell_type": "code",
   "execution_count": 188,
   "metadata": {},
   "outputs": [
    {
     "data": {
      "text/plain": [
       "'badminton'"
      ]
     },
     "execution_count": 188,
     "metadata": {},
     "output_type": "execute_result"
    }
   ],
   "source": [
    "min('bat', 'ball', 'barn', 'basket', 'badminton')"
   ]
  },
  {
   "cell_type": "code",
   "execution_count": 248,
   "metadata": {},
   "outputs": [
    {
     "data": {
      "text/plain": [
       "2"
      ]
     },
     "execution_count": 248,
     "metadata": {},
     "output_type": "execute_result"
    }
   ],
   "source": [
    "#2.7 practice problem;\n",
    "#(a) An expression that evaluates to the number of 7 grades;\n",
    "student = [9, 7, 7, 10, 3, 9, 6, 6, 2]\n",
    "student.count(7)\n",
    "\n"
   ]
  },
  {
   "cell_type": "code",
   "execution_count": 251,
   "metadata": {},
   "outputs": [
    {
     "name": "stdout",
     "output_type": "stream",
     "text": [
      "['hello', 4]\n"
     ]
    }
   ],
   "source": [
    "#(b) A statement that changes the lastgrade to 4\n",
    "student= [9, 7, 7, 10, 3, 9, 6, 6, 2]\n",
    "lst[-1]=4\n",
    "print(lst)"
   ]
  },
  {
   "cell_type": "code",
   "execution_count": 191,
   "metadata": {},
   "outputs": [
    {
     "data": {
      "text/plain": [
       "10"
      ]
     },
     "execution_count": 191,
     "metadata": {},
     "output_type": "execute_result"
    }
   ],
   "source": [
    "#(c) An expression that evaluates to the maximum grade;\n",
    "max(9, 7, 7, 10, 3, 9, 6, 6, 2)"
   ]
  },
  {
   "cell_type": "code",
   "execution_count": 192,
   "metadata": {},
   "outputs": [
    {
     "name": "stdout",
     "output_type": "stream",
     "text": [
      "[2, 3, 6, 6, 7, 7, 9, 9, 10]\n"
     ]
    }
   ],
   "source": [
    "#(d) A statement that sorts the list grades;\n",
    "student=[9, 7, 7, 10, 3, 9, 6, 6, 2]\n",
    "student.sort()\n",
    "print(student)"
   ]
  },
  {
   "cell_type": "code",
   "execution_count": 193,
   "metadata": {},
   "outputs": [
    {
     "data": {
      "text/plain": [
       "6.555555555555555"
      ]
     },
     "execution_count": 193,
     "metadata": {},
     "output_type": "execute_result"
    }
   ],
   "source": [
    "#(e) An expression that evaluates to the average grade;\n",
    "student=[9, 7, 7, 10, 3, 9, 6, 6, 2]\n",
    "sum(student)/len(student)"
   ]
  },
  {
   "cell_type": "code",
   "execution_count": 194,
   "metadata": {},
   "outputs": [
    {
     "data": {
      "text/plain": [
       "False"
      ]
     },
     "execution_count": 194,
     "metadata": {},
     "output_type": "execute_result"
    }
   ],
   "source": [
    "#practice.problem2.8;In what order are the operators in the following expressions evaluated?\n",
    "((2 + 3) == 4) or( a >= 5)\n",
    "5<=4"
   ]
  },
  {
   "cell_type": "code",
   "execution_count": 195,
   "metadata": {},
   "outputs": [
    {
     "data": {
      "text/plain": [
       "False"
      ]
     },
     "execution_count": 195,
     "metadata": {},
     "output_type": "execute_result"
    }
   ],
   "source": [
    "(1) * -3 < -10 == 0"
   ]
  },
  {
   "cell_type": "code",
   "execution_count": 196,
   "metadata": {},
   "outputs": [
    {
     "data": {
      "text/plain": [
       "False"
      ]
     },
     "execution_count": 196,
     "metadata": {},
     "output_type": "execute_result"
    }
   ],
   "source": [
    "(1) * -3 < -10 in [0, True] "
   ]
  },
  {
   "cell_type": "code",
   "execution_count": 197,
   "metadata": {},
   "outputs": [
    {
     "data": {
      "text/plain": [
       "18"
      ]
     },
     "execution_count": 197,
     "metadata": {},
     "output_type": "execute_result"
    }
   ],
   "source": [
    " 2 * 3**2"
   ]
  },
  {
   "cell_type": "code",
   "execution_count": 198,
   "metadata": {},
   "outputs": [
    {
     "data": {
      "text/plain": [
       "True"
      ]
     },
     "execution_count": 198,
     "metadata": {},
     "output_type": "execute_result"
    }
   ],
   "source": [
    " 4 / 2 in [1, 2, 3]"
   ]
  },
  {
   "cell_type": "code",
   "execution_count": 199,
   "metadata": {},
   "outputs": [
    {
     "data": {
      "text/plain": [
       "True"
      ]
     },
     "execution_count": 199,
     "metadata": {},
     "output_type": "execute_result"
    }
   ],
   "source": [
    "#practice problem2.9;What is the type of the object that these expressions evaluate to?\n",
    "5<3+7>9"
   ]
  },
  {
   "cell_type": "code",
   "execution_count": 200,
   "metadata": {},
   "outputs": [
    {
     "data": {
      "text/plain": [
       "18.0"
      ]
     },
     "execution_count": 200,
     "metadata": {},
     "output_type": "execute_result"
    }
   ],
   "source": [
    "2 * 3**2.0"
   ]
  },
  {
   "cell_type": "code",
   "execution_count": 201,
   "metadata": {},
   "outputs": [
    {
     "data": {
      "text/plain": [
       "2"
      ]
     },
     "execution_count": 201,
     "metadata": {},
     "output_type": "execute_result"
    }
   ],
   "source": [
    " 4 // 2 + 4 % 2"
   ]
  },
  {
   "cell_type": "code",
   "execution_count": 202,
   "metadata": {},
   "outputs": [
    {
     "data": {
      "text/plain": [
       "True"
      ]
     },
     "execution_count": 202,
     "metadata": {},
     "output_type": "execute_result"
    }
   ],
   "source": [
    "2 + 3 == 4 or 5 >= 5"
   ]
  },
  {
   "cell_type": "code",
   "execution_count": 203,
   "metadata": {},
   "outputs": [
    {
     "name": "stdout",
     "output_type": "stream",
     "text": [
      "length of the hypoteneous is 5.0\n"
     ]
    }
   ],
   "source": [
    "#practice problem2.10; Write Python expressions corresponding to the following:\n",
    "#(a) The length of the hypotenuse in a right triangle whose other two sides have lengths a and b\n",
    "from math import sqrt\n",
    "hyp=(sqrt)(a**2+b**2)\n",
    "print('length of the hypoteneous is',hyp)"
   ]
  },
  {
   "cell_type": "code",
   "execution_count": 204,
   "metadata": {},
   "outputs": [
    {
     "name": "stdout",
     "output_type": "stream",
     "text": [
      "the length of the above hypoteneous is 5\n"
     ]
    }
   ],
   "source": [
    "#(b) The value of the expression that evaluates whether the length of the above hypotenuse is 5; \n",
    "from math import sqrt\n",
    "hyp=5\n",
    "5==(sqrt)(a**2+b**2)\n",
    "print(\"the length of the above hypoteneous is\",hyp)"
   ]
  },
  {
   "cell_type": "code",
   "execution_count": 205,
   "metadata": {},
   "outputs": [
    {
     "name": "stdout",
     "output_type": "stream",
     "text": [
      "rad 3.605551275463989\n"
     ]
    }
   ],
   "source": [
    " #(c) The area of a disk of radius a\n",
    "from math import sqrt\n",
    "rad=math.sqrt((1-a)**2+(1-b)**2)\n",
    "print(\"rad\",rad)"
   ]
  },
  {
   "cell_type": "code",
   "execution_count": 206,
   "metadata": {},
   "outputs": [
    {
     "name": "stdout",
     "output_type": "stream",
     "text": [
      "100 <class 'int'>\n",
      "0.0012 <class 'float'>\n",
      "(50+1j) <class 'complex'>\n"
     ]
    }
   ],
   "source": [
    "#data types python\n",
    "#numeric\n",
    "# integer value\n",
    "a=100\n",
    "print( a, type(a))\n",
    "# float value.\n",
    "b=0.0012\n",
    "print(b,type(b))\n",
    "#complex value\n",
    "c=50+1j\n",
    "print(c,type(c))"
   ]
  },
  {
   "cell_type": "code",
   "execution_count": 207,
   "metadata": {},
   "outputs": [
    {
     "name": "stdout",
     "output_type": "stream",
     "text": [
      "usman instituteof tecnology\n"
     ]
    }
   ],
   "source": [
    "#string\n",
    "a=(\"usman institute\")\n",
    "b=(\"of tecnology\")\n",
    "print(a+b)"
   ]
  },
  {
   "cell_type": "code",
   "execution_count": 208,
   "metadata": {},
   "outputs": [
    {
     "name": "stdout",
     "output_type": "stream",
     "text": [
      "['hello', 'abubakar']\n",
      "abubakar\n"
     ]
    }
   ],
   "source": [
    "#list\n",
    "lst=[\"hello\",\"abubakar\"]\n",
    "print(lst)\n",
    "#index are 0 based. this will print a single character\n",
    "print(lst[1])"
   ]
  },
  {
   "cell_type": "code",
   "execution_count": 209,
   "metadata": {},
   "outputs": [
    {
     "name": "stdout",
     "output_type": "stream",
     "text": [
      "('hello', 'abubakar')\n",
      "hello\n"
     ]
    }
   ],
   "source": [
    "#tuple\n",
    "tuple=(\"hello\",\"abubakar\")\n",
    "print(tuple)\n",
    "#index(0)\n",
    "print(tuple[0])"
   ]
  },
  {
   "cell_type": "code",
   "execution_count": 210,
   "metadata": {},
   "outputs": [
    {
     "name": "stdout",
     "output_type": "stream",
     "text": [
      "abubakar\n",
      "siddique\n",
      "17\n"
     ]
    }
   ],
   "source": [
    "#dictionary\n",
    "a = {1:\"abubakar\",2:\"siddique\", \"age\":17}\n",
    "print(a[1])\n",
    "print(a[2])\n",
    "print(a[\"age\"])"
   ]
  },
  {
   "cell_type": "code",
   "execution_count": 211,
   "metadata": {},
   "outputs": [
    {
     "name": "stdout",
     "output_type": "stream",
     "text": [
      "3/4\n",
      "3.0550504633038935\n"
     ]
    }
   ],
   "source": [
    "#module fraction;\n",
    "import fractions\n",
    "a = fractions.Fraction(3, 4)\n",
    "print(a)\n",
    "b=math.sqrt(fractions.Fraction(28,3))\n",
    "print(b)"
   ]
  },
  {
   "cell_type": "markdown",
   "metadata": {},
   "source": []
  }
 ],
 "metadata": {
  "kernelspec": {
   "display_name": "Python 3",
   "language": "python",
   "name": "python3"
  },
  "language_info": {
   "codemirror_mode": {
    "name": "ipython",
    "version": 3
   },
   "file_extension": ".py",
   "mimetype": "text/x-python",
   "name": "python",
   "nbconvert_exporter": "python",
   "pygments_lexer": "ipython3",
   "version": "3.7.3"
  }
 },
 "nbformat": 4,
 "nbformat_minor": 2
}
